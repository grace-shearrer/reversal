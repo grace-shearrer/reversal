{
 "cells": [
  {
   "cell_type": "code",
   "execution_count": 1,
   "id": "5cc28838",
   "metadata": {},
   "outputs": [
    {
     "name": "stdout",
     "output_type": "stream",
     "text": [
      "%pylab is deprecated, use %matplotlib inline and import the required libraries.\n",
      "Populating the interactive namespace from numpy and matplotlib\n"
     ]
    }
   ],
   "source": [
    "%matplotlib inline\n",
    "%pylab inline\n",
    "pylab.rcParams['figure.figsize'] = (10, 6)"
   ]
  },
  {
   "cell_type": "code",
   "execution_count": 2,
   "id": "78b1e65a",
   "metadata": {},
   "outputs": [],
   "source": [
    "from matplotlib import pyplot as plt\n",
    "import numpy as np\n",
    "import math, random"
   ]
  },
  {
   "cell_type": "code",
   "execution_count": 3,
   "id": "6e636ed4",
   "metadata": {},
   "outputs": [],
   "source": [
    "from scipy.special import softmax"
   ]
  },
  {
   "cell_type": "code",
   "execution_count": 63,
   "id": "2172a750",
   "metadata": {},
   "outputs": [],
   "source": [
    "def countX(lst, x):\n",
    "    return lst.count(x)"
   ]
  },
  {
   "cell_type": "code",
   "execution_count": 175,
   "id": "43d44df5",
   "metadata": {
    "scrolled": true
   },
   "outputs": [
    {
     "name": "stdout",
     "output_type": "stream",
     "text": [
      "flip!\n",
      "0.03488372093023256\n"
     ]
    }
   ],
   "source": [
    "psweet = [1.0]  #  List of probabilities of the action to go to sweetLogo\n",
    "punsweet = [0]\n",
    "uchoices = []  #  Choices to go to unsweetLogo\n",
    "schoices = []  #  Choices to go to sweetLogo\n",
    "\n",
    "beta = 1  #  Exploitation-exploration parameter\n",
    "epsi = .6  #  Learning rate parameter\n",
    "epsiloss = .6  #  Learning rate parameter\n",
    "alpha = .5\n",
    "\n",
    "ms = 1  #  Estimated reward of sweet logo\n",
    "mu = 0  #  Estimated reward of unsweet logo\n",
    "\n",
    "reward_count = [] # list to keep number of rewards\n",
    "state = ['s1','s2'] # states\n",
    "count = 3 # initial count\n",
    "choices = ['unsweet'] #initial other choices\n",
    "total_reward = []\n",
    "\n",
    "for i in range(44):\n",
    "    si = state[0] # always starts at s1\n",
    "    if si == 's1': # real reward probabilities \n",
    "        rs = 1\n",
    "        ru = 0\n",
    "    else:\n",
    "        rs = 0\n",
    "        ru = 1\n",
    "\n",
    "    pui = 1/(1+math.exp(np.negative(beta)*(mu-ms))) #probability of unsweet\n",
    "    psi = 1/(1+math.exp(np.negative(beta)*(ms-mu))) #probability of sweet\n",
    "    psweet.append(psi)\n",
    "    punsweet.append(pui)\n",
    "    \n",
    "    if pui < psi: # if probability of sweet is greater than unsweet choose sweet\n",
    "        choice = 'sweet'\n",
    "        choices.append(choice)\n",
    "        schoices.append(1)\n",
    "        uchoices.append(0)\n",
    "        if si == 's1':\n",
    "            reward_count.append(1)\n",
    "            total_reward.append(1)\n",
    "            ms = ms + epsi*(rs-ms) #update estimate\n",
    "        else:\n",
    "            total_reward.append(0)\n",
    "            ms = ms + epsiloss*(rs-ms) #update estimate\n",
    "    elif pui > psi: # if probability of unsweet is greater than sweet choose unsweet\n",
    "        choice = 'unsweet'\n",
    "        choices.append(choice)\n",
    "        schoices.append(0)\n",
    "        uchoices.append(1)\n",
    "        if si == 's2':\n",
    "            reward_count.append(1)\n",
    "            total_reward.append(1)\n",
    "            mu = mu + epsi*(ru-mu) #update estimate\n",
    "        else:\n",
    "            total_reward.append(0)\n",
    "            mu = mu + epsiloss*(ru-mu) #update estimate\n",
    "    elif pui == psi: # if the probabilities are 50 50 \n",
    "        x = countX(choices, choices[-1]) # rely on previous choice\n",
    "        mod = countX(total_reward, total_reward[1]) # modify alpha based on previous correct or incorrect \n",
    "        mod = (mod/len(total_reward))\n",
    "        alpha = alpha*mod\n",
    "        print(alpha)\n",
    "        prob = (x/len(choices))*alpha # estimate probability of previous choice with alpha\n",
    "        if prob > 0.5:\n",
    "            choice = choices[-1] \n",
    "            print(choice)\n",
    "        elif prob < 0.5:\n",
    "            if choices[-1] == 'sweet':\n",
    "                choice = 'unsweet'\n",
    "            else:\n",
    "                choice = 'sweet'\n",
    "        else:\n",
    "            choice = random.choice(choices) # if still 50 50 random selection\n",
    "            print('random!')\n",
    "        choices.append(choice)\n",
    "        if choice == 'sweet':\n",
    "            schoices.append(1)\n",
    "            uchoices.append(0)\n",
    "            if si == 's1':\n",
    "                reward_count.append(1)\n",
    "                total_reward.append(1)\n",
    "                ms = ms + epsi*(rs-ms)\n",
    "            else:\n",
    "                total_reward.append(0)\n",
    "                ms = ms + epsiloss*(rs-ms)\n",
    "        else:\n",
    "            choice = 'unsweet'\n",
    "            choices.append(choice)\n",
    "            schoices.append(0)\n",
    "            uchoices.append(1)\n",
    "            if si == 's2':\n",
    "                reward_count.append(1)\n",
    "                total_reward.append(1)\n",
    "                mu = mu + epsi*(ru-mu)\n",
    "            else:\n",
    "                total_reward.append(0)\n",
    "                mu = mu + epsiloss*(ru-mu)\n",
    "    if len(reward_count) >= count:\n",
    "        state.reverse()\n",
    "        count = random.randint(3, 5)\n",
    "        reward_count = []\n",
    "        print('flip!')\n"
   ]
  },
  {
   "cell_type": "code",
   "execution_count": 176,
   "id": "49d18b8d",
   "metadata": {
    "scrolled": true
   },
   "outputs": [
    {
     "data": {
      "text/plain": [
       "[1,\n",
       " 1,\n",
       " 1,\n",
       " 0,\n",
       " 0,\n",
       " 0,\n",
       " 0,\n",
       " 0,\n",
       " 0,\n",
       " 0,\n",
       " 0,\n",
       " 0,\n",
       " 0,\n",
       " 0,\n",
       " 0,\n",
       " 0,\n",
       " 0,\n",
       " 0,\n",
       " 0,\n",
       " 0,\n",
       " 0,\n",
       " 0,\n",
       " 0,\n",
       " 0,\n",
       " 0,\n",
       " 0,\n",
       " 0,\n",
       " 0,\n",
       " 0,\n",
       " 0,\n",
       " 0,\n",
       " 0,\n",
       " 0,\n",
       " 0,\n",
       " 0,\n",
       " 0,\n",
       " 0,\n",
       " 0,\n",
       " 0,\n",
       " 0,\n",
       " 0,\n",
       " 0,\n",
       " 0,\n",
       " 1]"
      ]
     },
     "execution_count": 176,
     "metadata": {},
     "output_type": "execute_result"
    }
   ],
   "source": [
    "total_reward"
   ]
  },
  {
   "cell_type": "code",
   "execution_count": 177,
   "id": "067df14a",
   "metadata": {},
   "outputs": [
    {
     "data": {
      "image/png": "[encoded data removed]",
      "text/plain": [
       "<Figure size 1000x600 with 1 Axes>"
      ]
     },
     "metadata": {},
     "output_type": "display_data"
    }
   ],
   "source": [
    "time = np.arange(0, 44, 1)\n",
    "psweet.pop(0)\n",
    "plot = plt.subplot()\n",
    "\n",
    "plot.plot(time, psweet, label='Probability to go to sweet')\n",
    "plot.plot(time, schoices, '+b', label='Chooses sweet')\n",
    "plot.plot(time, uchoices, 'xy', label='Chooses unsweet')\n",
    "plt.title('Probability of the action')\n",
    "plt.xlabel('Time')\n",
    "plt.ylabel('Probability of occurence')\n",
    "plt.legend(bbox_to_anchor=(1, 0.8))\n",
    "plt.ylim(-0.04, 1.04)\n",
    "plt.show()"
   ]
  },
  {
   "cell_type": "code",
   "execution_count": null,
   "id": "161834db",
   "metadata": {},
   "outputs": [],
   "source": []
  }
 ],
 "metadata": {
  "kernelspec": {
   "display_name": "Python 3 (ipykernel)",
   "language": "python",
   "name": "python3"
  },
  "language_info": {
   "codemirror_mode": {
    "name": "ipython",
    "version": 3
   },
   "file_extension": ".py",
   "mimetype": "text/x-python",
   "name": "python",
   "nbconvert_exporter": "python",
   "pygments_lexer": "ipython3",
   "version": "3.8.8"
  }
 },
 "nbformat": 4,
 "nbformat_minor": 5
}
